{
  "nbformat": 4,
  "nbformat_minor": 0,
  "metadata": {
    "colab": {
      "name": "Adding a new data into inventory",
      "provenance": [],
      "collapsed_sections": []
    },
    "kernelspec": {
      "name": "python3",
      "display_name": "Python 3"
    },
    "language_info": {
      "name": "python"
    }
  },
  "cells": [
    {
      "cell_type": "code",
      "metadata": {
        "id": "5KoOmL475CB_"
      },
      "source": [
        "def add():\n",
        "  fd = open(\"rec.json\",'r')\n",
        "  r = fd.read()\n",
        "  fd.close()\n",
        "  rec = json.loads(r)\n",
        "  fd = open(\"sales.json\",'r')\n",
        "  sale = fd.read()\n",
        "  fd.close()\n",
        "  sales = json.loads(sale)\n",
        "  prod_id = input(\"Enter product id:\")\n",
        "  for i in list(rec.keys()):\n",
        "    if (prod_id==i):\n",
        "      print(\"Product exists!\")\n",
        "      print(\"name: \"+ rec[i]['name'])\n",
        "      qty = int(input(\"Enter quantity: \"))\n",
        "      rec[prod_id]['qty']=rec[prod_id]['qty']+qty\n",
        "      break\n",
        "  else:\n",
        "    name = input(\"Enter name: \")\n",
        "    brand = input(\"Enter brand: \")\n",
        "    price = int(input(\"Enter price: \"))\n",
        "    qty = int(input(\"Enter quantity: \"))\n",
        "    size = input(\"Enter weight in grams: \")\n",
        "    rec[prod_id] = {'name': name, 'brand': brand, 'price': price, 'qty': qty, 'size': size}\n",
        "    sales[prod_id] = {'name': name, 'brand': brand, 'price': price, 'qty': 0, 'size': size}\n",
        "  js = json.dumps(rec)\n",
        "  fd = open(\"rec.json\",'w')\n",
        "  fd.write(js)\n",
        "  fd.close()\n",
        "  fd = open(\"rec.json\",'r')\n",
        "  r = fd.read()\n",
        "  fd.close()\n",
        "  rec = json.loads(r)\n",
        "  jss = json.dumps(sales)\n",
        "  fd = open(\"sales.json\",'w')\n",
        "  fd.write(jss)\n",
        "  fd.close()\n",
        "  fd = open(\"sales.json\",'r')\n",
        "  sale = fd.read()\n",
        "  fd.close()\n",
        "  sales = json.loads(sale)\n"
      ],
      "execution_count": 33,
      "outputs": []
    },
    {
      "cell_type": "code",
      "metadata": {
        "colab": {
          "base_uri": "https://localhost:8080/"
        },
        "id": "RS7A4d_F-HjA",
        "outputId": "396fa068-6d88-4bd6-bf65-3da33846ed66"
      },
      "source": [
        "import json\n",
        "for i in range(100):\n",
        "  choice = input(\"continue to add data yes/no : \")\n",
        "  if(choice == 'yes' or choice == 'YES' or choice ==\"Yes\"):\n",
        "    add()\n",
        "  elif(choice == 'no' or choice == 'NO' or choice ==\"No\"):\n",
        "    break\n",
        "  else:\n",
        "    print(\"Please enter either yes or no\")\n",
        "print(\"Inventory Updated Successfully\")"
      ],
      "execution_count": 34,
      "outputs": [
        {
          "output_type": "stream",
          "name": "stdout",
          "text": [
            "continue to add data yes/no : yes\n",
            "Enter product id:126\n",
            "Product exists!\n",
            "name: dieties\n",
            "Enter quantity: 30\n",
            "continue to add data yes/no : yes\n",
            "Enter product id:192\n",
            "Enter name: paradise\n",
            "Enter brand: taj\n",
            "Enter price: 150\n",
            "Enter quantity: 100\n",
            "Enter weight in grams: 72g\n",
            "continue to add data yes/no : no\n",
            "Inventory Updated Successfully\n"
          ]
        }
      ]
    },
    {
      "cell_type": "code",
      "metadata": {
        "id": "7DzZ7NB6Dsjn"
      },
      "source": [
        ""
      ],
      "execution_count": null,
      "outputs": []
    }
  ]
}